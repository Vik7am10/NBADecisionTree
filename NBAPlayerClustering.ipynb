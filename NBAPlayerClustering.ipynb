{
  "nbformat": 4,
  "nbformat_minor": 0,
  "metadata": {
    "colab": {
      "provenance": [],
      "authorship_tag": "ABX9TyPDr51Qi5NLpVk2FU+PPJcG",
      "include_colab_link": true
    },
    "kernelspec": {
      "name": "python3",
      "display_name": "Python 3"
    },
    "language_info": {
      "name": "python"
    }
  },
  "cells": [
    {
      "cell_type": "markdown",
      "metadata": {
        "id": "view-in-github",
        "colab_type": "text"
      },
      "source": [
        "<a href=\"https://colab.research.google.com/github/Vik7am10/NBADecisionTree/blob/main/NBAPlayerClustering.ipynb\" target=\"_parent\"><img src=\"https://colab.research.google.com/assets/colab-badge.svg\" alt=\"Open In Colab\"/></a>"
      ]
    },
    {
      "cell_type": "code",
      "execution_count": 1,
      "metadata": {
        "colab": {
          "base_uri": "https://localhost:8080/"
        },
        "id": "XyS64MGoiiGh",
        "outputId": "c5ba3522-ba50-4901-efe0-ef1f4185de15"
      },
      "outputs": [
        {
          "output_type": "stream",
          "name": "stdout",
          "text": [
            "Warning: Looks like you're using an outdated `kagglehub` version (installed: 0.3.5), please consider upgrading to the latest version (0.3.6).\n",
            "Downloading from https://www.kaggle.com/api/v1/datasets/download/nathanlauga/nba-games?dataset_version_number=10...\n"
          ]
        },
        {
          "output_type": "stream",
          "name": "stderr",
          "text": [
            "100%|██████████| 21.2M/21.2M [00:00<00:00, 77.5MB/s]"
          ]
        },
        {
          "output_type": "stream",
          "name": "stdout",
          "text": [
            "Extracting files...\n"
          ]
        },
        {
          "output_type": "stream",
          "name": "stderr",
          "text": [
            "\n"
          ]
        },
        {
          "output_type": "stream",
          "name": "stdout",
          "text": [
            "Path to dataset files: /root/.cache/kagglehub/datasets/nathanlauga/nba-games/versions/10\n"
          ]
        }
      ],
      "source": [
        "import kagglehub\n",
        "\n",
        "# Download latest version\n",
        "path = kagglehub.dataset_download(\"nathanlauga/nba-games\")\n",
        "\n",
        "print(\"Path to dataset files:\", path)"
      ]
    },
    {
      "cell_type": "code",
      "source": [
        "import pandas as pd\n",
        "\n",
        "# Load datasets\n",
        "games = pd.read_csv(f\"{path}/games.csv\")\n",
        "games_details = pd.read_csv(f\"{path}/games_details.csv\")\n",
        "players = pd.read_csv(f\"{path}/players.csv\")\n",
        "teams = pd.read_csv(f\"{path}/teams.csv\")\n",
        "ranking = pd.read_csv(f\"{path}/ranking.csv\")\n",
        "\n",
        "# Explore the structure of each dataset\n",
        "print(\"Games Dataset:\")\n",
        "print(games.head())\n",
        "\n",
        "print(\"\\nGames Details Dataset:\")\n",
        "print(games_details.head())\n",
        "\n",
        "print(\"\\nPlayers Dataset:\")\n",
        "print(players.head())\n",
        "\n",
        "print(\"\\nTeams Dataset:\")\n",
        "print(teams.head())\n",
        "\n",
        "print(\"\\nRanking Dataset:\")\n",
        "print(ranking.head())\n"
      ],
      "metadata": {
        "colab": {
          "base_uri": "https://localhost:8080/"
        },
        "collapsed": true,
        "id": "KAB7tReuiqX5",
        "outputId": "21965f14-719c-478a-dad3-6dfa6464f448"
      },
      "execution_count": 2,
      "outputs": [
        {
          "output_type": "stream",
          "name": "stderr",
          "text": [
            "<ipython-input-2-2759d2b1aa92>:5: DtypeWarning: Columns (6) have mixed types. Specify dtype option on import or set low_memory=False.\n",
            "  games_details = pd.read_csv(f\"{path}/games_details.csv\")\n"
          ]
        },
        {
          "output_type": "stream",
          "name": "stdout",
          "text": [
            "Games Dataset:\n",
            "  GAME_DATE_EST   GAME_ID GAME_STATUS_TEXT  HOME_TEAM_ID  VISITOR_TEAM_ID  \\\n",
            "0    2022-12-22  22200477            Final    1610612740       1610612759   \n",
            "1    2022-12-22  22200478            Final    1610612762       1610612764   \n",
            "2    2022-12-21  22200466            Final    1610612739       1610612749   \n",
            "3    2022-12-21  22200467            Final    1610612755       1610612765   \n",
            "4    2022-12-21  22200468            Final    1610612737       1610612741   \n",
            "\n",
            "   SEASON  TEAM_ID_home  PTS_home  FG_PCT_home  FT_PCT_home  ...  AST_home  \\\n",
            "0    2022    1610612740     126.0        0.484        0.926  ...      25.0   \n",
            "1    2022    1610612762     120.0        0.488        0.952  ...      16.0   \n",
            "2    2022    1610612739     114.0        0.482        0.786  ...      22.0   \n",
            "3    2022    1610612755     113.0        0.441        0.909  ...      27.0   \n",
            "4    2022    1610612737     108.0        0.429        1.000  ...      22.0   \n",
            "\n",
            "   REB_home  TEAM_ID_away  PTS_away  FG_PCT_away  FT_PCT_away  FG3_PCT_away  \\\n",
            "0      46.0    1610612759     117.0        0.478        0.815         0.321   \n",
            "1      40.0    1610612764     112.0        0.561        0.765         0.333   \n",
            "2      37.0    1610612749     106.0        0.470        0.682         0.433   \n",
            "3      49.0    1610612765      93.0        0.392        0.735         0.261   \n",
            "4      47.0    1610612741     110.0        0.500        0.773         0.292   \n",
            "\n",
            "   AST_away  REB_away  HOME_TEAM_WINS  \n",
            "0      23.0      44.0               1  \n",
            "1      20.0      37.0               1  \n",
            "2      20.0      46.0               1  \n",
            "3      15.0      46.0               1  \n",
            "4      20.0      47.0               0  \n",
            "\n",
            "[5 rows x 21 columns]\n",
            "\n",
            "Games Details Dataset:\n",
            "    GAME_ID     TEAM_ID TEAM_ABBREVIATION    TEAM_CITY  PLAYER_ID  \\\n",
            "0  22200477  1610612759               SAS  San Antonio    1629641   \n",
            "1  22200477  1610612759               SAS  San Antonio    1631110   \n",
            "2  22200477  1610612759               SAS  San Antonio    1627751   \n",
            "3  22200477  1610612759               SAS  San Antonio    1630170   \n",
            "4  22200477  1610612759               SAS  San Antonio    1630200   \n",
            "\n",
            "      PLAYER_NAME NICKNAME START_POSITION COMMENT    MIN  ...  OREB  DREB  \\\n",
            "0  Romeo Langford    Romeo              F     NaN  18:06  ...   1.0   1.0   \n",
            "1   Jeremy Sochan   Jeremy              F     NaN  31:01  ...   6.0   3.0   \n",
            "2    Jakob Poeltl    Jakob              C     NaN  21:42  ...   1.0   3.0   \n",
            "3   Devin Vassell    Devin              G     NaN  30:20  ...   0.0   9.0   \n",
            "4       Tre Jones      Tre              G     NaN  27:44  ...   0.0   2.0   \n",
            "\n",
            "   REB  AST  STL  BLK   TO   PF   PTS  PLUS_MINUS  \n",
            "0  2.0  0.0  1.0  0.0  2.0  5.0   2.0        -2.0  \n",
            "1  9.0  6.0  1.0  0.0  2.0  1.0  23.0       -14.0  \n",
            "2  4.0  1.0  1.0  0.0  2.0  4.0  13.0        -4.0  \n",
            "3  9.0  5.0  3.0  0.0  2.0  1.0  10.0       -18.0  \n",
            "4  2.0  3.0  0.0  0.0  2.0  2.0  19.0         0.0  \n",
            "\n",
            "[5 rows x 29 columns]\n",
            "\n",
            "Players Dataset:\n",
            "        PLAYER_NAME     TEAM_ID  PLAYER_ID  SEASON\n",
            "0     Royce O'Neale  1610612762    1626220    2019\n",
            "1  Bojan Bogdanovic  1610612762     202711    2019\n",
            "2       Rudy Gobert  1610612762     203497    2019\n",
            "3  Donovan Mitchell  1610612762    1628378    2019\n",
            "4       Mike Conley  1610612762     201144    2019\n",
            "\n",
            "Teams Dataset:\n",
            "   LEAGUE_ID     TEAM_ID  MIN_YEAR  MAX_YEAR ABBREVIATION   NICKNAME  \\\n",
            "0          0  1610612737      1949      2019          ATL      Hawks   \n",
            "1          0  1610612738      1946      2019          BOS    Celtics   \n",
            "2          0  1610612740      2002      2019          NOP   Pelicans   \n",
            "3          0  1610612741      1966      2019          CHI      Bulls   \n",
            "4          0  1610612742      1980      2019          DAL  Mavericks   \n",
            "\n",
            "   YEARFOUNDED         CITY                     ARENA  ARENACAPACITY  \\\n",
            "0         1949      Atlanta          State Farm Arena        18729.0   \n",
            "1         1946       Boston                 TD Garden        18624.0   \n",
            "2         2002  New Orleans      Smoothie King Center            NaN   \n",
            "3         1966      Chicago             United Center        21711.0   \n",
            "4         1980       Dallas  American Airlines Center        19200.0   \n",
            "\n",
            "             OWNER  GENERALMANAGER      HEADCOACH DLEAGUEAFFILIATION  \n",
            "0     Tony Ressler  Travis Schlenk   Lloyd Pierce      Erie Bayhawks  \n",
            "1    Wyc Grousbeck     Danny Ainge   Brad Stevens    Maine Red Claws  \n",
            "2       Tom Benson  Trajan Langdon   Alvin Gentry       No Affiliate  \n",
            "3  Jerry Reinsdorf      Gar Forman     Jim Boylen   Windy City Bulls  \n",
            "4       Mark Cuban   Donnie Nelson  Rick Carlisle      Texas Legends  \n",
            "\n",
            "Ranking Dataset:\n",
            "      TEAM_ID  LEAGUE_ID  SEASON_ID STANDINGSDATE CONFERENCE         TEAM   G  \\\n",
            "0  1610612743          0      22022    2022-12-22       West       Denver  30   \n",
            "1  1610612763          0      22022    2022-12-22       West      Memphis  30   \n",
            "2  1610612740          0      22022    2022-12-22       West  New Orleans  31   \n",
            "3  1610612756          0      22022    2022-12-22       West      Phoenix  32   \n",
            "4  1610612746          0      22022    2022-12-22       West  LA Clippers  33   \n",
            "\n",
            "    W   L  W_PCT HOME_RECORD ROAD_RECORD  RETURNTOPLAY  \n",
            "0  19  11  0.633        10-3         9-8           NaN  \n",
            "1  19  11  0.633        13-2         6-9           NaN  \n",
            "2  19  12  0.613        13-4         6-8           NaN  \n",
            "3  19  13  0.594        14-4         5-9           NaN  \n",
            "4  19  14  0.576        11-7         8-7           NaN  \n"
          ]
        }
      ]
    },
    {
      "cell_type": "code",
      "source": [
        "# List all columns in games_details\n",
        "print(\"Columns in games_details:\")\n",
        "print(games_details.columns)\n",
        "\n",
        "# Display column data types\n",
        "print(\"\\nData types of columns in games_details:\")\n",
        "print(games_details.dtypes)\n"
      ],
      "metadata": {
        "colab": {
          "base_uri": "https://localhost:8080/"
        },
        "collapsed": true,
        "id": "JncY_gHbvijh",
        "outputId": "0160c860-7260-41ec-c308-1a244c729f14"
      },
      "execution_count": null,
      "outputs": [
        {
          "output_type": "stream",
          "name": "stdout",
          "text": [
            "Columns in games_details:\n",
            "Index(['GAME_ID', 'TEAM_ID', 'TEAM_ABBREVIATION', 'TEAM_CITY', 'PLAYER_ID',\n",
            "       'PLAYER_NAME', 'NICKNAME', 'START_POSITION', 'COMMENT', 'MIN', 'FGM',\n",
            "       'FGA', 'FG_PCT', 'FG3M', 'FG3A', 'FG3_PCT', 'FTM', 'FTA', 'FT_PCT',\n",
            "       'OREB', 'DREB', 'REB', 'AST', 'STL', 'BLK', 'TO', 'PF', 'PTS',\n",
            "       'PLUS_MINUS'],\n",
            "      dtype='object')\n",
            "\n",
            "Data types of columns in games_details:\n",
            "GAME_ID                int64\n",
            "TEAM_ID                int64\n",
            "TEAM_ABBREVIATION     object\n",
            "TEAM_CITY             object\n",
            "PLAYER_ID              int64\n",
            "PLAYER_NAME           object\n",
            "NICKNAME              object\n",
            "START_POSITION        object\n",
            "COMMENT               object\n",
            "MIN                   object\n",
            "FGM                  float64\n",
            "FGA                  float64\n",
            "FG_PCT               float64\n",
            "FG3M                 float64\n",
            "FG3A                 float64\n",
            "FG3_PCT              float64\n",
            "FTM                  float64\n",
            "FTA                  float64\n",
            "FT_PCT               float64\n",
            "OREB                 float64\n",
            "DREB                 float64\n",
            "REB                  float64\n",
            "AST                  float64\n",
            "STL                  float64\n",
            "BLK                  float64\n",
            "TO                   float64\n",
            "PF                   float64\n",
            "PTS                  float64\n",
            "PLUS_MINUS           float64\n",
            "dtype: object\n"
          ]
        }
      ]
    },
    {
      "cell_type": "code",
      "source": [
        "# Check the first few PLAYER_IDs in both datasets\n",
        "print(\"PLAYER_IDs in games_details:\")\n",
        "print(games_details['PLAYER_ID'].unique()[:5])\n",
        "\n",
        "print(\"\\nPLAYER_IDs in players:\")\n",
        "print(players['PLAYER_ID'].unique()[:5])\n",
        "\n",
        "# Check if there are mismatches\n",
        "missing_ids = set(games_details['PLAYER_ID']).difference(players['PLAYER_ID'])\n",
        "print(f\"\\nPLAYER_IDs in games_details but not in players: {len(missing_ids)}\")\n"
      ],
      "metadata": {
        "colab": {
          "base_uri": "https://localhost:8080/"
        },
        "collapsed": true,
        "id": "J65gfTgiwb3F",
        "outputId": "e228f1f4-51b8-4cff-d018-e2a7a5984c5f"
      },
      "execution_count": 3,
      "outputs": [
        {
          "output_type": "stream",
          "name": "stdout",
          "text": [
            "PLAYER_IDs in games_details:\n",
            "[1629641 1631110 1627751 1630170 1630200]\n",
            "\n",
            "PLAYER_IDs in players:\n",
            "[1626220  202711  203497 1628378  201144]\n",
            "\n",
            "PLAYER_IDs in games_details but not in players: 918\n"
          ]
        }
      ]
    },
    {
      "cell_type": "code",
      "source": [
        "print(\"Sample of converted minutes:\")\n",
        "print(games_details[['GAME_ID', 'TEAM_ID', 'PLAYER_ID', 'MIN']].head())"
      ],
      "metadata": {
        "colab": {
          "base_uri": "https://localhost:8080/"
        },
        "collapsed": true,
        "id": "7KQvGZ9Gxj0k",
        "outputId": "cd5cee7a-cbd1-4e67-d555-448266779072"
      },
      "execution_count": 4,
      "outputs": [
        {
          "output_type": "stream",
          "name": "stdout",
          "text": [
            "Sample of converted minutes:\n",
            "    GAME_ID     TEAM_ID  PLAYER_ID    MIN\n",
            "0  22200477  1610612759    1629641  18:06\n",
            "1  22200477  1610612759    1631110  31:01\n",
            "2  22200477  1610612759    1627751  21:42\n",
            "3  22200477  1610612759    1630170  30:20\n",
            "4  22200477  1610612759    1630200  27:44\n"
          ]
        }
      ]
    },
    {
      "cell_type": "code",
      "source": [
        "# Convert 'MIN' from MM:SS format to total minutes as a float\n",
        "def convert_min_to_float(min_str):\n",
        "    try:\n",
        "        # Check if the value is a string in MM:SS format\n",
        "        if isinstance(min_str, str) and ':' in min_str:\n",
        "            mins, secs = map(int, min_str.split(':'))\n",
        "            return mins + secs / 60\n",
        "        # If it's already numeric, return it as is\n",
        "        elif isinstance(min_str, (int, float)):\n",
        "            return float(min_str)\n",
        "    except:\n",
        "        # Return 0.0 for any invalid or malformed entry\n",
        "        return 0.0\n",
        "\n",
        "# Apply conversion to the 'MIN' column\n",
        "games_details['MIN'] = games_details['MIN'].apply(convert_min_to_float)\n",
        "\n",
        "# Verify the conversion\n",
        "print(\"Sample of converted MIN column:\")\n",
        "print(games_details[['GAME_ID', 'PLAYER_ID', 'MIN']].head())\n"
      ],
      "metadata": {
        "colab": {
          "base_uri": "https://localhost:8080/"
        },
        "collapsed": true,
        "id": "LxQgMczVxT9A",
        "outputId": "28b1c42f-d505-4d30-e588-6748135f6bfe"
      },
      "execution_count": 5,
      "outputs": [
        {
          "output_type": "stream",
          "name": "stdout",
          "text": [
            "Sample of converted MIN column:\n",
            "    GAME_ID  PLAYER_ID        MIN\n",
            "0  22200477    1629641  18.100000\n",
            "1  22200477    1631110  31.016667\n",
            "2  22200477    1627751  21.700000\n",
            "3  22200477    1630170  30.333333\n",
            "4  22200477    1630200  27.733333\n"
          ]
        }
      ]
    },
    {
      "cell_type": "code",
      "source": [
        "# Replace NaN or negative values with 0.0\n",
        "games_details['MIN'] = games_details['MIN'].fillna(0.0)\n",
        "games_details['MIN'] = games_details['MIN'].clip(lower=0.0)\n",
        "\n",
        "# Verify the cleaned MIN column\n",
        "print(\"Cleaned MIN column:\")\n",
        "print(games_details[['GAME_ID', 'PLAYER_ID', 'MIN']].head())\n"
      ],
      "metadata": {
        "colab": {
          "base_uri": "https://localhost:8080/"
        },
        "collapsed": true,
        "id": "ZclQY46RlPef",
        "outputId": "38dce79f-8f1c-44ce-8919-4e8afa0ad454"
      },
      "execution_count": 6,
      "outputs": [
        {
          "output_type": "stream",
          "name": "stdout",
          "text": [
            "Cleaned MIN column:\n",
            "    GAME_ID  PLAYER_ID        MIN\n",
            "0  22200477    1629641  18.100000\n",
            "1  22200477    1631110  31.016667\n",
            "2  22200477    1627751  21.700000\n",
            "3  22200477    1630170  30.333333\n",
            "4  22200477    1630200  27.733333\n"
          ]
        }
      ]
    },
    {
      "cell_type": "code",
      "source": [
        "# Group by GAME_ID and TEAM_ID, then sort by MIN within each group\n",
        "games_details_sorted = (\n",
        "    games_details.groupby(['GAME_ID', 'TEAM_ID'], group_keys=False)  # Prevent hierarchical index\n",
        "    .apply(lambda x: x.sort_values(by='MIN', ascending=False))  # Sort within each group\n",
        ")\n",
        "\n",
        "# Verify the sorting\n",
        "print(\"Sample of sorted data within each GAME_ID and TEAM_ID:\")\n",
        "print(games_details_sorted[['GAME_ID', 'TEAM_ID', 'PLAYER_ID', 'MIN']].head(20))\n"
      ],
      "metadata": {
        "colab": {
          "base_uri": "https://localhost:8080/"
        },
        "collapsed": true,
        "id": "ovN61FEWyMhF",
        "outputId": "92f96963-a900-42b9-86b9-4f6bffb91d0a"
      },
      "execution_count": 7,
      "outputs": [
        {
          "output_type": "stream",
          "name": "stdout",
          "text": [
            "Sample of sorted data within each GAME_ID and TEAM_ID:\n",
            "         GAME_ID     TEAM_ID  PLAYER_ID  MIN\n",
            "306910  10300001  1610612742       1712  0.0\n",
            "306911  10300001  1610612742       1504  0.0\n",
            "306912  10300001  1610612742       1717  0.0\n",
            "306913  10300001  1610612742       2059  0.0\n",
            "306914  10300001  1610612742       2412  0.0\n",
            "306915  10300001  1610612742       2572  0.0\n",
            "306916  10300001  1610612742       1711  0.0\n",
            "306917  10300001  1610612742        762  0.0\n",
            "306918  10300001  1610612742        959  0.0\n",
            "306919  10300001  1610612742       1505  0.0\n",
            "306920  10300001  1610612742        696  0.0\n",
            "306891  10300001  1610612762       2144  0.0\n",
            "306901  10300001  1610612762       1721  0.0\n",
            "306908  10300001  1610612762       2221  0.0\n",
            "306907  10300001  1610612762       1952  0.0\n",
            "306906  10300001  1610612762       1514  0.0\n",
            "306905  10300001  1610612762       2590  0.0\n",
            "306904  10300001  1610612762       1913  0.0\n",
            "306903  10300001  1610612762       1723  0.0\n",
            "306902  10300001  1610612762       2068  0.0\n"
          ]
        },
        {
          "output_type": "stream",
          "name": "stderr",
          "text": [
            "<ipython-input-7-3c7fc06e37b3>:4: DeprecationWarning: DataFrameGroupBy.apply operated on the grouping columns. This behavior is deprecated, and in a future version of pandas the grouping columns will be excluded from the operation. Either pass `include_groups=False` to exclude the groupings or explicitly select the grouping columns after groupby to silence this warning.\n",
            "  .apply(lambda x: x.sort_values(by='MIN', ascending=False))  # Sort within each group\n"
          ]
        }
      ]
    },
    {
      "cell_type": "code",
      "source": [
        "print(games_details.head())  # Show the first few rows of the DataFrame\n",
        "print(games_details.info())  # Display column names, data types, and non-null counts\n",
        "# Merge games_details with games on GAME_ID to get the SEASON column\n",
        "games_details = games_details.merge(games[['GAME_ID', 'SEASON']], on='GAME_ID', how='left')\n",
        "\n",
        "# Check the updated games_details dataset\n",
        "print(games_details.head())\n"
      ],
      "metadata": {
        "colab": {
          "base_uri": "https://localhost:8080/"
        },
        "id": "7slaCF-jEJPu",
        "outputId": "0490c91a-08b2-4e05-b86f-7df42704e90f",
        "collapsed": true
      },
      "execution_count": 8,
      "outputs": [
        {
          "output_type": "stream",
          "name": "stdout",
          "text": [
            "    GAME_ID     TEAM_ID TEAM_ABBREVIATION    TEAM_CITY  PLAYER_ID  \\\n",
            "0  22200477  1610612759               SAS  San Antonio    1629641   \n",
            "1  22200477  1610612759               SAS  San Antonio    1631110   \n",
            "2  22200477  1610612759               SAS  San Antonio    1627751   \n",
            "3  22200477  1610612759               SAS  San Antonio    1630170   \n",
            "4  22200477  1610612759               SAS  San Antonio    1630200   \n",
            "\n",
            "      PLAYER_NAME NICKNAME START_POSITION COMMENT        MIN  ...  OREB  DREB  \\\n",
            "0  Romeo Langford    Romeo              F     NaN  18.100000  ...   1.0   1.0   \n",
            "1   Jeremy Sochan   Jeremy              F     NaN  31.016667  ...   6.0   3.0   \n",
            "2    Jakob Poeltl    Jakob              C     NaN  21.700000  ...   1.0   3.0   \n",
            "3   Devin Vassell    Devin              G     NaN  30.333333  ...   0.0   9.0   \n",
            "4       Tre Jones      Tre              G     NaN  27.733333  ...   0.0   2.0   \n",
            "\n",
            "   REB  AST  STL  BLK   TO   PF   PTS  PLUS_MINUS  \n",
            "0  2.0  0.0  1.0  0.0  2.0  5.0   2.0        -2.0  \n",
            "1  9.0  6.0  1.0  0.0  2.0  1.0  23.0       -14.0  \n",
            "2  4.0  1.0  1.0  0.0  2.0  4.0  13.0        -4.0  \n",
            "3  9.0  5.0  3.0  0.0  2.0  1.0  10.0       -18.0  \n",
            "4  2.0  3.0  0.0  0.0  2.0  2.0  19.0         0.0  \n",
            "\n",
            "[5 rows x 29 columns]\n",
            "<class 'pandas.core.frame.DataFrame'>\n",
            "RangeIndex: 668628 entries, 0 to 668627\n",
            "Data columns (total 29 columns):\n",
            " #   Column             Non-Null Count   Dtype  \n",
            "---  ------             --------------   -----  \n",
            " 0   GAME_ID            668628 non-null  int64  \n",
            " 1   TEAM_ID            668628 non-null  int64  \n",
            " 2   TEAM_ABBREVIATION  668628 non-null  object \n",
            " 3   TEAM_CITY          668628 non-null  object \n",
            " 4   PLAYER_ID          668628 non-null  int64  \n",
            " 5   PLAYER_NAME        668628 non-null  object \n",
            " 6   NICKNAME           53037 non-null   object \n",
            " 7   START_POSITION     255765 non-null  object \n",
            " 8   COMMENT            109689 non-null  object \n",
            " 9   MIN                668628 non-null  float64\n",
            " 10  FGM                558938 non-null  float64\n",
            " 11  FGA                558938 non-null  float64\n",
            " 12  FG_PCT             558938 non-null  float64\n",
            " 13  FG3M               558938 non-null  float64\n",
            " 14  FG3A               558938 non-null  float64\n",
            " 15  FG3_PCT            558938 non-null  float64\n",
            " 16  FTM                558938 non-null  float64\n",
            " 17  FTA                558938 non-null  float64\n",
            " 18  FT_PCT             558938 non-null  float64\n",
            " 19  OREB               558938 non-null  float64\n",
            " 20  DREB               558938 non-null  float64\n",
            " 21  REB                558938 non-null  float64\n",
            " 22  AST                558938 non-null  float64\n",
            " 23  STL                558938 non-null  float64\n",
            " 24  BLK                558938 non-null  float64\n",
            " 25  TO                 558938 non-null  float64\n",
            " 26  PF                 558938 non-null  float64\n",
            " 27  PTS                558938 non-null  float64\n",
            " 28  PLUS_MINUS         535277 non-null  float64\n",
            "dtypes: float64(20), int64(3), object(6)\n",
            "memory usage: 147.9+ MB\n",
            "None\n",
            "    GAME_ID     TEAM_ID TEAM_ABBREVIATION    TEAM_CITY  PLAYER_ID  \\\n",
            "0  22200477  1610612759               SAS  San Antonio    1629641   \n",
            "1  22200477  1610612759               SAS  San Antonio    1631110   \n",
            "2  22200477  1610612759               SAS  San Antonio    1627751   \n",
            "3  22200477  1610612759               SAS  San Antonio    1630170   \n",
            "4  22200477  1610612759               SAS  San Antonio    1630200   \n",
            "\n",
            "      PLAYER_NAME NICKNAME START_POSITION COMMENT        MIN  ...  DREB  REB  \\\n",
            "0  Romeo Langford    Romeo              F     NaN  18.100000  ...   1.0  2.0   \n",
            "1   Jeremy Sochan   Jeremy              F     NaN  31.016667  ...   3.0  9.0   \n",
            "2    Jakob Poeltl    Jakob              C     NaN  21.700000  ...   3.0  4.0   \n",
            "3   Devin Vassell    Devin              G     NaN  30.333333  ...   9.0  9.0   \n",
            "4       Tre Jones      Tre              G     NaN  27.733333  ...   2.0  2.0   \n",
            "\n",
            "   AST  STL  BLK   TO   PF   PTS  PLUS_MINUS  SEASON  \n",
            "0  0.0  1.0  0.0  2.0  5.0   2.0        -2.0    2022  \n",
            "1  6.0  1.0  0.0  2.0  1.0  23.0       -14.0    2022  \n",
            "2  1.0  1.0  0.0  2.0  4.0  13.0        -4.0    2022  \n",
            "3  5.0  3.0  0.0  2.0  1.0  10.0       -18.0    2022  \n",
            "4  3.0  0.0  0.0  2.0  2.0  19.0         0.0    2022  \n",
            "\n",
            "[5 rows x 30 columns]\n"
          ]
        }
      ]
    },
    {
      "cell_type": "code",
      "source": [
        "# Group by PLAYER_ID and SEASON to compute average stats across all games in a season\n",
        "player_stats = games_details.groupby(['PLAYER_ID', 'SEASON']).agg({\n",
        "    'PTS': 'mean',\n",
        "    'AST': 'mean',\n",
        "    'REB': 'mean',\n",
        "    'STL': 'mean',\n",
        "    'BLK': 'mean',\n",
        "    'TO': 'mean',\n",
        "    'OREB': 'mean',\n",
        "    'DREB': 'mean',\n",
        "    'PLUS_MINUS': 'mean',\n",
        "    'FGM': 'mean',\n",
        "    'FGA': 'mean',\n",
        "    'FG_PCT': 'mean',\n",
        "    'FG3M': 'mean',\n",
        "    'FG3A': 'mean',\n",
        "    'FG3_PCT': 'mean',\n",
        "    'FTM': 'mean',\n",
        "    'FTA': 'mean',\n",
        "    'FT_PCT': 'mean',\n",
        "    'MIN': 'mean'\n",
        "}).reset_index()\n",
        "\n",
        "# Add player names for interpretability (optional)\n",
        "player_stats = player_stats.merge(players[['PLAYER_ID', 'PLAYER_NAME']], on='PLAYER_ID', how='left')\n",
        "\n",
        "# Display the result\n",
        "print(player_stats.head())\n",
        "\n",
        "#Now we have each player per season averages\n",
        "\n",
        "\n"
      ],
      "metadata": {
        "colab": {
          "base_uri": "https://localhost:8080/"
        },
        "collapsed": true,
        "id": "vchCy3K2xKhL",
        "outputId": "2acb6dc4-a107-49ab-8f2f-e30a972a6edb"
      },
      "execution_count": 9,
      "outputs": [
        {
          "output_type": "stream",
          "name": "stdout",
          "text": [
            "   PLAYER_ID  SEASON       PTS       AST       REB       STL       BLK  \\\n",
            "0         15    2003  4.196078  0.509804  1.490196  0.313725  0.098039   \n",
            "1         15    2004  4.750000  0.750000  1.184211  0.500000  0.039474   \n",
            "2         15    2005  2.230769  0.435897  0.897436  0.179487  0.051282   \n",
            "3         15    2006  2.071429  0.357143  0.714286  0.000000  0.142857   \n",
            "4         15    2007  2.473684  0.526316  0.789474  0.000000  0.052632   \n",
            "\n",
            "         TO      OREB      DREB  ...       FGA    FG_PCT      FG3M      FG3A  \\\n",
            "0  0.588235  0.215686  1.274510  ...  3.941176  0.345784  0.882353  2.529412   \n",
            "1  0.526316  0.210526  0.973684  ...  3.802632  0.356566  0.868421  2.026316   \n",
            "2  0.358974  0.205128  0.692308  ...  2.102564  0.283128  0.358974  1.179487   \n",
            "3  0.357143  0.142857  0.571429  ...  1.857143  0.281714  0.500000  1.285714   \n",
            "4  0.421053  0.105263  0.684211  ...  2.105263  0.313158  0.684211  1.578947   \n",
            "\n",
            "    FG3_PCT       FTM       FTA    FT_PCT       MIN  PLAYER_NAME  \n",
            "0  0.308608  0.333333  0.392157  0.155235  9.281140          NaN  \n",
            "1  0.301553  0.671053  0.828947  0.240789  9.925275          NaN  \n",
            "2  0.201282  0.179487  0.282051  0.094026  4.003125          NaN  \n",
            "3  0.193429  0.142857  0.142857  0.071429  1.352679          NaN  \n",
            "4  0.376316  0.210526  0.210526  0.105263  1.376707          NaN  \n",
            "\n",
            "[5 rows x 22 columns]\n"
          ]
        }
      ]
    },
    {
      "cell_type": "code",
      "source": [
        "from scipy.stats import zscore\n",
        "\n",
        "# Columns to standardize\n",
        "numeric_columns = [\n",
        "    'PTS', 'AST', 'REB', 'STL', 'BLK', 'TO', 'OREB', 'DREB', 'PLUS_MINUS',\n",
        "    'FGM', 'FGA', 'FG_PCT', 'FG3M', 'FG3A', 'FG3_PCT', 'FTM', 'FTA', 'FT_PCT', 'MIN'\n",
        "]\n",
        "\n",
        "# Standardize numeric columns using z-scores\n",
        "player_stats_standardized = player_stats.copy()\n",
        "player_stats_standardized[numeric_columns] = player_stats[numeric_columns].apply(zscore)\n",
        "\n",
        "# Drop the column named 'cluster'\n",
        "player_stats_standardized = player_stats_standardized.drop(columns=['Cluster'], errors='ignore')\n",
        "\n",
        "# Display the result to confirm\n",
        "print(player_stats_standardized.head())\n",
        "\n"
      ],
      "metadata": {
        "colab": {
          "base_uri": "https://localhost:8080/"
        },
        "id": "xb5mV9cfxtgN",
        "outputId": "a30e4a07-29ff-4053-a19b-fcc109395c28"
      },
      "execution_count": 19,
      "outputs": [
        {
          "output_type": "stream",
          "name": "stdout",
          "text": [
            "     PLAYER_ID  SEASON       PTS       AST       REB       STL       BLK  \\\n",
            "96         255    2004  1.648630  0.609019  0.315630  1.709556 -0.086202   \n",
            "97         255    2004  1.648630  0.609019  0.315630  1.709556 -0.086202   \n",
            "98         255    2004  1.648630  0.609019  0.315630  1.709556 -0.086202   \n",
            "99         255    2004  1.648630  0.609019  0.315630  1.709556 -0.086202   \n",
            "100        255    2005  0.775969 -0.022729 -0.168921  0.974369 -0.361511   \n",
            "\n",
            "           TO      OREB      DREB  ...    FG_PCT      FG3M      FG3A  \\\n",
            "96   1.289771  0.182818  0.349802  ...  0.986422 -0.939909 -0.978449   \n",
            "97   1.289771  0.182818  0.349802  ...  0.986422 -0.939909 -0.978449   \n",
            "98   1.289771  0.182818  0.349802  ...  0.986422 -0.939909 -0.978449   \n",
            "99   1.289771  0.182818  0.349802  ...  0.986422 -0.939909 -0.978449   \n",
            "100  0.612567 -0.365381 -0.066012  ...  0.413608 -0.839757 -0.899765   \n",
            "\n",
            "      FG3_PCT       FTM       FTA    FT_PCT       MIN  PLAYER_NAME  Cluster  \n",
            "96  -1.172585  1.637948  1.522018  1.239247  1.188411   Grant Hill        2  \n",
            "97  -1.172585  1.637948  1.522018  1.239247  1.188411   Grant Hill        2  \n",
            "98  -1.172585  1.637948  1.522018  1.239247  1.188411   Grant Hill        2  \n",
            "99  -1.172585  1.637948  1.522018  1.239247  1.188411   Grant Hill        2  \n",
            "100 -0.544109  1.244708  1.295602  1.243244  0.076371   Grant Hill        1  \n",
            "\n",
            "[5 rows x 23 columns]\n",
            "     PLAYER_ID  SEASON       PTS       AST       REB       STL       BLK  \\\n",
            "96         255    2004  1.648630  0.609019  0.315630  1.709556 -0.086202   \n",
            "97         255    2004  1.648630  0.609019  0.315630  1.709556 -0.086202   \n",
            "98         255    2004  1.648630  0.609019  0.315630  1.709556 -0.086202   \n",
            "99         255    2004  1.648630  0.609019  0.315630  1.709556 -0.086202   \n",
            "100        255    2005  0.775969 -0.022729 -0.168921  0.974369 -0.361511   \n",
            "\n",
            "           TO      OREB      DREB  ...       FGA    FG_PCT      FG3M  \\\n",
            "96   1.289771  0.182818  0.349802  ...  1.588866  0.986422 -0.939909   \n",
            "97   1.289771  0.182818  0.349802  ...  1.588866  0.986422 -0.939909   \n",
            "98   1.289771  0.182818  0.349802  ...  1.588866  0.986422 -0.939909   \n",
            "99   1.289771  0.182818  0.349802  ...  1.588866  0.986422 -0.939909   \n",
            "100  0.612567 -0.365381 -0.066012  ...  0.643764  0.413608 -0.839757   \n",
            "\n",
            "         FG3A   FG3_PCT       FTM       FTA    FT_PCT       MIN  PLAYER_NAME  \n",
            "96  -0.978449 -1.172585  1.637948  1.522018  1.239247  1.188411   Grant Hill  \n",
            "97  -0.978449 -1.172585  1.637948  1.522018  1.239247  1.188411   Grant Hill  \n",
            "98  -0.978449 -1.172585  1.637948  1.522018  1.239247  1.188411   Grant Hill  \n",
            "99  -0.978449 -1.172585  1.637948  1.522018  1.239247  1.188411   Grant Hill  \n",
            "100 -0.899765 -0.544109  1.244708  1.295602  1.243244  0.076371   Grant Hill  \n",
            "\n",
            "[5 rows x 22 columns]\n"
          ]
        }
      ]
    },
    {
      "cell_type": "markdown",
      "source": [
        "Classification starts here\n"
      ],
      "metadata": {
        "id": "0TP9k5EPL5EM"
      }
    },
    {
      "cell_type": "code",
      "source": [
        "from sklearn.decomposition import PCA\n",
        "from sklearn.cluster import KMeans\n",
        "from sklearn.preprocessing import StandardScaler\n",
        "import matplotlib.pyplot as plt\n",
        "from sklearn.metrics import silhouette_score\n",
        "\n",
        "\n",
        "# Drop rows with NaN values\n",
        "player_stats_cleaned = player_stats_standardized.dropna()\n",
        "\n",
        "# Select numeric columns for clustering\n",
        "numeric_columns = [\n",
        "    'PTS', 'AST', 'REB', 'STL', 'BLK', 'TO', 'OREB', 'DREB', 'PLUS_MINUS',\n",
        "    'FGM', 'FGA', 'FG_PCT', 'FG3M', 'FG3A', 'FG3_PCT', 'FTM', 'FTA', 'FT_PCT', 'MIN'\n",
        "]\n",
        "data_for_clustering = player_stats_cleaned[numeric_columns]\n",
        "\n",
        "# Standardize the data\n",
        "scaler = StandardScaler()\n",
        "data_scaled = scaler.fit_transform(data_for_clustering)\n",
        "\n",
        "# Apply PCA to retain 88% variance\n",
        "pca = PCA(n_components=0.88)  # Retain 88% variance\n",
        "data_pca = pca.fit_transform(data_scaled)\n",
        "print(f\"PCA reduced to {data_pca.shape[1]} components.\")\n",
        "\n",
        "silhouette_scores = []\n",
        "cluster_range = range(2, 16)  # Test 2 to 15 clusters\n",
        "\n",
        "for k in cluster_range:\n",
        "    kmeans = KMeans(n_clusters=k, random_state=42)\n",
        "    labels = kmeans.fit_predict(data_pca)\n",
        "    score = silhouette_score(data_pca, labels)\n",
        "    silhouette_scores.append(score)\n",
        "\n",
        "# Plot Silhouette Scores\n",
        "plt.figure(figsize=(8, 5))\n",
        "plt.plot(cluster_range, silhouette_scores, marker='o')\n",
        "plt.title('Silhouette Scores for Optimal Clusters')\n",
        "plt.xlabel('Number of Clusters')\n",
        "plt.ylabel('Silhouette Score')\n",
        "plt.show()"
      ],
      "metadata": {
        "colab": {
          "base_uri": "https://localhost:8080/",
          "height": 504
        },
        "id": "6l5i71FRyqpx",
        "outputId": "e860e17c-9397-4874-93c0-162af4563a84"
      },
      "execution_count": 22,
      "outputs": [
        {
          "output_type": "stream",
          "name": "stdout",
          "text": [
            "PCA reduced to 6 components.\n"
          ]
        },
        {
          "output_type": "display_data",
          "data": {
            "text/plain": [
              "<Figure size 800x500 with 1 Axes>"
            ],
            "image/png": "[encoded data removed]"
          },
          "metadata": {}
        }
      ]
    },
    {
      "cell_type": "code",
      "source": [
        "# Perform K-Means clustering with an optimal number of clusters (e.g., k=10 based on silhouette curve)\n",
        "optimal_clusters = 10  # Adjust based on the elbow curve\n",
        "kmeans = KMeans(n_clusters=optimal_clusters, random_state=42)\n",
        "player_stats_cleaned['Cluster'] = kmeans.fit_predict(data_pca)\n",
        "\n",
        "# Display the clustered data\n",
        "print(player_stats_cleaned.head())"
      ],
      "metadata": {
        "colab": {
          "base_uri": "https://localhost:8080/"
        },
        "id": "7CPUttBC13WA",
        "outputId": "645762e1-c1c7-4bd4-cb94-7bbeacc9d172"
      },
      "execution_count": 23,
      "outputs": [
        {
          "output_type": "stream",
          "name": "stdout",
          "text": [
            "     PLAYER_ID  SEASON       PTS       AST       REB       STL       BLK  \\\n",
            "96         255    2004  1.648630  0.609019  0.315630  1.709556 -0.086202   \n",
            "97         255    2004  1.648630  0.609019  0.315630  1.709556 -0.086202   \n",
            "98         255    2004  1.648630  0.609019  0.315630  1.709556 -0.086202   \n",
            "99         255    2004  1.648630  0.609019  0.315630  1.709556 -0.086202   \n",
            "100        255    2005  0.775969 -0.022729 -0.168921  0.974369 -0.361511   \n",
            "\n",
            "           TO      OREB      DREB  ...    FG_PCT      FG3M      FG3A  \\\n",
            "96   1.289771  0.182818  0.349802  ...  0.986422 -0.939909 -0.978449   \n",
            "97   1.289771  0.182818  0.349802  ...  0.986422 -0.939909 -0.978449   \n",
            "98   1.289771  0.182818  0.349802  ...  0.986422 -0.939909 -0.978449   \n",
            "99   1.289771  0.182818  0.349802  ...  0.986422 -0.939909 -0.978449   \n",
            "100  0.612567 -0.365381 -0.066012  ...  0.413608 -0.839757 -0.899765   \n",
            "\n",
            "      FG3_PCT       FTM       FTA    FT_PCT       MIN  PLAYER_NAME  Cluster  \n",
            "96  -1.172585  1.637948  1.522018  1.239247  1.188411   Grant Hill        5  \n",
            "97  -1.172585  1.637948  1.522018  1.239247  1.188411   Grant Hill        5  \n",
            "98  -1.172585  1.637948  1.522018  1.239247  1.188411   Grant Hill        5  \n",
            "99  -1.172585  1.637948  1.522018  1.239247  1.188411   Grant Hill        5  \n",
            "100 -0.544109  1.244708  1.295602  1.243244  0.076371   Grant Hill        2  \n",
            "\n",
            "[5 rows x 23 columns]\n"
          ]
        }
      ]
    },
    {
      "cell_type": "code",
      "source": [
        "output_file = \"player_stats_with_clusters.csv\"\n",
        "player_stats_cleaned.to_csv(output_file, index=False)"
      ],
      "metadata": {
        "id": "WOn30JBH4Mf9"
      },
      "execution_count": 24,
      "outputs": []
    }
  ]
}